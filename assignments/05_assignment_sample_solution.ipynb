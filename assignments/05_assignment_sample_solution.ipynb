{
 "cells": [
  {
   "cell_type": "markdown",
   "metadata": {
    "collapsed": true
   },
   "source": [
    "# Image Processing SS 16 - Assignment - 04\n",
    "\n",
    "### Deadline is 1.6.2016 at 16:00 o'clock\n",
    "\n",
    "Please solve the assignments together with a partner.\n",
    "I will run every notebook. Make sure the code runs through. Select `Kernel` -> `Restart & Run All` to test it.\n",
    "Please strip the output from the cells, either select `Cell` -> `All Output` -> `Clear` or use the `nb_strip_output.py` script / git hook."
   ]
  },
  {
   "cell_type": "code",
   "execution_count": 1,
   "metadata": {
    "collapsed": false
   },
   "outputs": [],
   "source": [
    "# display the plots inside the notebook\n",
    "%matplotlib inline"
   ]
  },
  {
   "cell_type": "code",
   "execution_count": 2,
   "metadata": {
    "collapsed": false
   },
   "outputs": [],
   "source": [
    "import numpy as np\n",
    "import matplotlib.pyplot as plt\n",
    "import pylab\n",
    "from skimage.data import astronaut\n",
    "from skimage.color import rgb2gray\n",
    "\n",
    "import random\n",
    "try:\n",
    "    from StringIO import StringIO as BytesIO\n",
    "except ImportError:\n",
    "    from io import BytesIO\n",
    "    \n",
    "from PIL import Image\n",
    "import itertools\n",
    "\n",
    "pylab.rcParams['figure.figsize'] = (12, 12)   # This makes the plot bigger"
   ]
  },
  {
   "cell_type": "markdown",
   "metadata": {},
   "source": [
    "# Exercise 1 - Filters - 5 Points\n",
    "\n",
    "Qualify the noise and sharpness in the images. Make a plot images, noise"
   ]
  },
  {
   "cell_type": "code",
   "execution_count": 3,
   "metadata": {
    "collapsed": false
   },
   "outputs": [],
   "source": [
    "img = rgb2gray(astronaut() / 255.)\n",
    "plt.imshow(img, cmap='gray')\n",
    "plt.show()\n",
    "img.shape"
   ]
  },
  {
   "cell_type": "code",
   "execution_count": 4,
   "metadata": {
    "collapsed": false,
    "scrolled": true
   },
   "outputs": [],
   "source": [
    "def salt_peper(img, p):\n",
    "    peper_mask = np.random.binomial(1, p, img.shape).astype(np.bool)\n",
    "    salt_mask = np.random.binomial(1, p, img.shape).astype(np.bool)\n",
    "    img_noise = img.copy()\n",
    "    img_noise[peper_mask] = 0\n",
    "    img_noise[salt_mask] = 1\n",
    "    return img_noise\n",
    "\n",
    "salt_peper_noises = [0.01, 0.03, 0.1]\n",
    "imgs_salt_peper = [salt_peper(img, p) for p in salt_peper_noises]\n",
    "#for img_salt_peper in imgs_salt_peper:\n",
    "#    plt.imshow(img_salt_peper, cmap='gray')\n",
    "#    plt.show()"
   ]
  },
  {
   "cell_type": "code",
   "execution_count": 5,
   "metadata": {
    "collapsed": false
   },
   "outputs": [],
   "source": [
    "def gaussian_noise(img, std):\n",
    "    return np.clip(img + np.random.normal(0, std, img.shape), 0, 1)\n",
    "\n",
    "gaussian_noises = (0.05, 0.10, 0.2)\n",
    "imgs_gaussian_noise = [gaussian_noise(img, s) for s in gaussian_noises]\n",
    "#for img_gaussian in imgs_gaussian_noise:\n",
    "#    plt.imshow(img_gaussian, cmap='gray')\n",
    "#    plt.show()"
   ]
  },
  {
   "cell_type": "code",
   "execution_count": 6,
   "metadata": {
    "collapsed": false
   },
   "outputs": [],
   "source": [
    "# implement the filters:\n",
    "import scipy.signal\n",
    "\n",
    "def arithmetic_mean(img):\n",
    "    d = 1./9.\n",
    "    arithmetic_kernel = np.array([[d, d, d], [d,d,d], [d,d,d]])\n",
    "    \n",
    "    return scipy.signal.convolve2d(img[:,:], arithmetic_kernel, mode='same')\n",
    "\n",
    "def getNeighbors(img, r, c, Sxy):\n",
    "    if (Sxy == 9):\n",
    "        return np.array([[img[r-1,c-1], img[r-1,c], img[r-1,c+1]], [img[r,c-1], img[r,c], img[r,c+1]], [img[r+1,c-1], img[r+1,c], img[r+1,c+1]]])\n",
    "    else:\n",
    "        return np.array([img[(r-2):(r+3), (c-2):(c+3)]])\n",
    "\n",
    "# test for security\n",
    "t = np.array([[1,2,3],[4,5,6],[7,8,9]])\n",
    "t1 = getNeighbors(t,1,1,9)\n",
    "t1[0,0] = 100\n",
    "if (np.sum(t1) == np.sum(t)):\n",
    "    raise\n",
    "    \n",
    "def geometric_mean(img):\n",
    "    res = np.copy(img)\n",
    "    for row in range(1,res.shape[0]-1):\n",
    "        for column in range(1,res.shape[1]-1):\n",
    "            neighbors = getNeighbors(img, row, column, 9)\n",
    "            res[row, column] = np.sqrt(float(np.prod(neighbors)))\n",
    "    return res / np.max(res)\n",
    "\n",
    "def contraharmoic_mean(img, q=1): # Like in wikipedia we choose q = 1\n",
    "    res = np.copy(img)\n",
    "    for row in range(1,res.shape[0]-1):\n",
    "        for column in range(1,res.shape[1]-1):\n",
    "            neighbors = getNeighbors(img, row, column, 9)\n",
    "            counter = np.sum(np.power(neighbors, q+1)) / 9.0\n",
    "            denominator = np.sum(np.power(neighbors, q)) / 9.0\n",
    "            if denominator == 0 or denominator == np.inf or np.isnan(denominator):\n",
    "                denominator = 0.01\n",
    "                #print(denominator, row, column)\n",
    "                #raise Exception(\"\")\n",
    "            res[row,column] = counter / float(denominator)\n",
    "    return np.clip(res,0,1)\n",
    "\n",
    "def realMedian(m,d): \n",
    "    m1 = np.reshape(m,d)\n",
    "    m1 = np.sort(m1)\n",
    "    return m1[int(m1.size/2)]\n",
    "\n",
    "def median_filter(img):\n",
    "    result = np.copy(img)\n",
    "    \n",
    "    for row in range(1,result.shape[0]-1):\n",
    "        for column in range(1,result.shape[1]-1):\n",
    "            neighbors = getNeighbors(img, row, column, 9)\n",
    "            result[row,column] = realMedian(neighbors, 9)\n",
    "            \n",
    "    return result\n",
    "    \n",
    "\n",
    "def adaptive_mean(img):\n",
    "    res = np.copy(img)\n",
    "    Smax = 25\n",
    "    \n",
    "    for row in range(3,res.shape[0]-3):\n",
    "        for column in range(3,res.shape[1]-3):\n",
    "            Sxy = 9\n",
    "            \n",
    "            while (True):\n",
    "                neighbors = getNeighbors(img, row, column, Sxy)\n",
    "\n",
    "                Zmean = np.mean(neighbors)\n",
    "                Zmin = np.min(neighbors)\n",
    "                Zmax = np.max(neighbors)\n",
    "                Zxy = img[row,column]\n",
    "\n",
    "                A1 = Zmean - Zmin\n",
    "                A2 = Zmean - Zmax\n",
    "\n",
    "                if (A1>0 and A2<0):\n",
    "                    #doB\n",
    "                    B1 = Zxy - Zmin\n",
    "                    B2 = Zxy - Zmax\n",
    "                    \n",
    "                    if (B1 > 0 and B2 < 0):\n",
    "                        res[row,column] = Zxy\n",
    "                        break\n",
    "                    else:\n",
    "                        res[row,column] = Zmean\n",
    "                        break\n",
    "                    \n",
    "                elif (Sxy < Smax):\n",
    "                    Sxy = Smax\n",
    "                else:\n",
    "                    res[row, column] = Zmean\n",
    "                    break\n",
    "            \n",
    "    return np.clip(res,0,1)\n",
    "\n",
    "def adaptive_median(img):\n",
    "    res = np.copy(img)\n",
    "    Smax = 25\n",
    "    \n",
    "    for row in range(3,res.shape[0]-3):\n",
    "        for column in range(3,res.shape[1]-3):\n",
    "            Sxy = 9\n",
    "            \n",
    "            while (True):\n",
    "                neighbors = getNeighbors(img, row, column, Sxy)\n",
    "\n",
    "                Zmed = realMedian(neighbors,Sxy)\n",
    "                Zmin = np.min(neighbors)\n",
    "                Zmax = np.max(neighbors)\n",
    "                Zxy = img[row,column]\n",
    "\n",
    "                A1 = Zmed - Zmin\n",
    "                A2 = Zmed - Zmax\n",
    "\n",
    "                if (A1>0 and A2<0):\n",
    "                    #doB\n",
    "                    B1 = Zxy - Zmin\n",
    "                    B2 = Zxy - Zmax\n",
    "                    \n",
    "                    if (B1 > 0 and B2 < 0):\n",
    "                        res[row,column] = Zxy\n",
    "                        break\n",
    "                    else:\n",
    "                        res[row,column] = Zmed\n",
    "                        break\n",
    "                    \n",
    "                elif (Sxy < Smax):\n",
    "                    Sxy = Smax\n",
    "                else:\n",
    "                    res[row, column] = Zmed\n",
    "                    break\n",
    "                \n",
    "    return np.clip(res,0,1)\n",
    "\n",
    "plt.imshow(geometric_mean(imgs_salt_peper[0]), cmap='gray')\n",
    "plt.show()\n"
   ]
  },
  {
   "cell_type": "code",
   "execution_count": 7,
   "metadata": {
    "collapsed": false,
    "scrolled": true
   },
   "outputs": [],
   "source": [
    "filters = [arithmetic_mean, geometric_mean, contraharmoic_mean, median_filter, \n",
    "           adaptive_mean, adaptive_median]\n",
    "\n",
    "for filter in filters:\n",
    "    for sp, img_sp in zip(salt_peper_noises, imgs_salt_peper):\n",
    "        print(filter.__name__ + \", salt peper noise: {}\".format(sp))\n",
    "        plt.subplot(221)\n",
    "        plt.imshow(img_sp, cmap='gray')\n",
    "        plt.subplot(222)\n",
    "        plt.imshow(filter(img_sp), cmap='gray')\n",
    "        plt.show()"
   ]
  },
  {
   "cell_type": "code",
   "execution_count": 8,
   "metadata": {
    "collapsed": false,
    "scrolled": true
   },
   "outputs": [],
   "source": [
    "for filter in filters:\n",
    "    for gn, img_gn in zip(gaussian_noises, imgs_gaussian_noise):\n",
    "        print(filter.__name__ + \", gaussian noise: {}\".format(gn))\n",
    "        plt.subplot(221)\n",
    "        plt.imshow(img_gn, cmap='gray')\n",
    "        plt.subplot(222)\n",
    "        plt.imshow(filter(img_gn), cmap='gray')\n",
    "        plt.show()"
   ]
  },
  {
   "cell_type": "markdown",
   "metadata": {},
   "source": [
    "# Exercise 2 - Sharpening - 5 Points\n",
    "\n",
    "Make the `img_blurry` sharp again. You need to implement the `sharp_laplacian` and `unsharp_masking`. You might\n",
    "consider some processing step before sharping."
   ]
  },
  {
   "cell_type": "code",
   "execution_count": 9,
   "metadata": {
    "collapsed": true
   },
   "outputs": [],
   "source": [
    "from skimage.filters import gaussian"
   ]
  },
  {
   "cell_type": "code",
   "execution_count": 61,
   "metadata": {
    "collapsed": false
   },
   "outputs": [],
   "source": [
    "img_blurry_noise = gaussian_noise(gaussian(img , 1.6), 0.07)\n",
    "\n",
    "\n",
    "# preprocessing: Remove noise with a gaussian filter\n",
    "img_blurry = gaussian(img_blurry_noise, 1.8)\n",
    "\n",
    "\n",
    "plt.subplot(121)\n",
    "plt.imshow(img_blurry_noise, cmap='gray')\n",
    "plt.title(\"Blurred and noisy image\")\n",
    "plt.subplot(122)\n",
    "plt.imshow(img_blurry, cmap='gray')\n",
    "plt.title(\"Noise removed with gaussian filter\")\n",
    "plt.show()"
   ]
  },
  {
   "cell_type": "code",
   "execution_count": 62,
   "metadata": {
    "collapsed": false
   },
   "outputs": [],
   "source": [
    "def laplacian(f, x, y):\n",
    "    return f[x+1,y] + f[x-1,y] + f[x,y+1] + f[x,y-1] - 4*f[x,y]\n",
    "\n",
    "def sharp_laplacian(img):\n",
    "    \"\"\"Performce sharpening with a laplacian filter\"\"\"\n",
    "    result = np.copy(img)\n",
    "    \n",
    "    for row in range(1, result.shape[0]-1):\n",
    "        for column in range(1, result.shape[1]-1):\n",
    "            result[row,column] = laplacian(img,row,column)\n",
    "            \n",
    "    result = img - 2 * result\n",
    "    \n",
    "    result = np.clip(result,0,1)\n",
    "    \n",
    "            \n",
    "    return result\n",
    "\n",
    "def unsharp_masking(img):\n",
    "    \"\"\"Performce sharpening by unsharp masking\"\"\"\n",
    "    #original\n",
    "    plt.subplot(131)\n",
    "    plt.imshow(img, cmap='gray')\n",
    "    \n",
    "    #blur\n",
    "    plt.subplot(132)\n",
    "    result = np.copy(img)\n",
    "    blur = gaussian(img , 1.6)\n",
    "    plt.imshow(blur, cmap='gray')\n",
    "    \n",
    "    #difference\n",
    "    diff = result - blur\n",
    "    \n",
    "    #result\n",
    "    plt.subplot(133)\n",
    "    result = np.clip(result + 3*diff, 0,1)\n",
    "    plt.imshow(blur, cmap='gray')\n",
    "    plt.show()\n",
    "    \n",
    "    \n",
    "    return result"
   ]
  },
  {
   "cell_type": "code",
   "execution_count": 63,
   "metadata": {
    "collapsed": false
   },
   "outputs": [],
   "source": [
    "plt.imshow(sharp_laplacian(img_blurry), cmap='gray')\n",
    "plt.show()"
   ]
  },
  {
   "cell_type": "code",
   "execution_count": 64,
   "metadata": {
    "collapsed": false,
    "scrolled": false
   },
   "outputs": [],
   "source": [
    "plt.imshow(unsharp_masking(img_blurry), cmap='gray')\n",
    "plt.show()"
   ]
  },
  {
   "cell_type": "code",
   "execution_count": null,
   "metadata": {
    "collapsed": true
   },
   "outputs": [],
   "source": []
  }
 ],
 "metadata": {
  "kernelspec": {
   "display_name": "Python 3",
   "language": "python",
   "name": "python3"
  },
  "language_info": {
   "codemirror_mode": {
    "name": "ipython",
    "version": 3
   },
   "file_extension": ".py",
   "mimetype": "text/x-python",
   "name": "python",
   "nbconvert_exporter": "python",
   "pygments_lexer": "ipython3",
   "version": "3.5.1+"
  }
 },
 "nbformat": 4,
 "nbformat_minor": 0
}
