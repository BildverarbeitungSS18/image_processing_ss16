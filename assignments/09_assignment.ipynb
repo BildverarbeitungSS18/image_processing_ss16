{
 "cells": [
  {
   "cell_type": "markdown",
   "metadata": {
    "collapsed": true
   },
   "source": [
    "# Image Processing SS 16 - Assignment - 09\n",
    "\n",
    "### Deadline is 29.6.2016 at 16:00 o'clock\n",
    "\n",
    "Please solve the assignments together with a partner.\n",
    "I will run every notebook. Make sure the code runs through. Select `Kernel` -> `Restart & Run All` to test it.\n",
    "Please strip the output from the cells, either select `Cell` -> `All Output` -> `Clear` or use the `nb_strip_output.py` script / git hook."
   ]
  },
  {
   "cell_type": "code",
   "execution_count": null,
   "metadata": {
    "collapsed": false
   },
   "outputs": [],
   "source": [
    "# display the plots inside the notebook\n",
    "%matplotlib inline"
   ]
  },
  {
   "cell_type": "code",
   "execution_count": null,
   "metadata": {
    "collapsed": false
   },
   "outputs": [],
   "source": [
    "import numpy as np\n",
    "import matplotlib.pyplot as plt\n",
    "import pylab\n",
    "import scipy.io.wavfile\n",
    "from skimage.data import astronaut\n",
    "from skimage.color import rgb2gray\n",
    "\n",
    "from __future__ import division\n",
    "import random\n",
    "try:\n",
    "    from StringIO import StringIO as BytesIO\n",
    "except ImportError:\n",
    "    from io import BytesIO\n",
    "    \n",
    "try:\n",
    "    import urllib.request as urllib2\n",
    "except ImportError:\n",
    "    import urllib2\n",
    "    \n",
    "    \n",
    "from numpy.fft import fft2 as numpy_fft2, ifft2 as numpy_ifft2\n",
    "from scipy.fftpack import dct\n",
    "from PIL import Image\n",
    "import itertools\n",
    "import IPython\n",
    "import zipfile\n",
    "pylab.rcParams['figure.figsize'] = (12, 12)   # This makes the plot bigger"
   ]
  },
  {
   "cell_type": "markdown",
   "metadata": {},
   "source": [
    "# Exercise 1 - Hadamard Matrix - 5 Points\n",
    "\n"
   ]
  },
  {
   "cell_type": "code",
   "execution_count": null,
   "metadata": {
    "collapsed": false
   },
   "outputs": [],
   "source": [
    "def hadamard_matrix(n):\n",
    "    \"\"\"Returns the Hadamard matrix. N is a power of two.\"\"\"\n",
    "    # your code here\n",
    "    return np.zeros((n, n))\n",
    "\n",
    "plt.subplot(121)\n",
    "plt.imshow(hadamard_matrix(8), cmap='gray')\n",
    "plt.subplot(122)\n",
    "plt.imshow(hadamard_matrix(32), cmap='gray')\n",
    "plt.show()"
   ]
  },
  {
   "cell_type": "code",
   "execution_count": null,
   "metadata": {
    "collapsed": false
   },
   "outputs": [],
   "source": [
    "def get_chess_board(n=8, field_size=8):\n",
    "    board = np.zeros((n*field_size, n*field_size))\n",
    "    s = field_size\n",
    "    for i in range(n):\n",
    "        for j in range(n):\n",
    "            if (i + j) % 2 == 0:\n",
    "                board[i*s:(i+1)*s, j*s:(j+1)*s] = 1\n",
    "    return board\n",
    "\n",
    "def get_sinus_board(n=8, field_size=8, shift=0):\n",
    "    img_size = n*field_size\n",
    "    linsp = np.linspace(-shift, np.pi*n - shift, img_size).reshape((img_size, 1))\n",
    "    return np.dot(np.sin(linsp), np.sin(linsp.T))\n",
    "\n"
   ]
  },
  {
   "cell_type": "code",
   "execution_count": null,
   "metadata": {
    "collapsed": false
   },
   "outputs": [],
   "source": [
    "chess_board = get_chess_board()\n",
    "chess_board_roll = np.roll(np.roll(chess_board, 4, axis=0), 4, axis=1)\n",
    "sinus_board = get_sinus_board()\n",
    "sinus_board_roll = get_sinus_board(shift=4)\n",
    "plt.subplot(221)\n",
    "plt.imshow(chess_board, cmap='gray', interpolation='nearest')\n",
    "plt.subplot(222)\n",
    "plt.imshow(sinus_board, cmap='gray')\n",
    "plt.subplot(223)\n",
    "plt.imshow(chess_board_roll, cmap='gray', interpolation='nearest')\n",
    "plt.subplot(224)\n",
    "plt.imshow(sinus_board_roll, cmap='gray')\n",
    "plt.show()"
   ]
  },
  {
   "cell_type": "code",
   "execution_count": null,
   "metadata": {
    "collapsed": false
   },
   "outputs": [],
   "source": [
    "# Plot the 2d hadamard transformation of the chess boards and sinus boards.\n",
    "# The 2D Hadamard Transformation can be computed similiar to the 2D DFT:\n",
    "# H * I * H, where I is the image, H is the hadamard-matrix and * is the matrix multiplication.\n",
    "\n",
    "H = hadamard_matrix(64)\n",
    "\n",
    "chess_board_H = chess_board                         # your code here\n",
    "chess_board_roll_H = chess_board_roll\n",
    "sinus_board_H = sinus_board\n",
    "sinus_board_roll_H = sinus_board_roll\n",
    "\n",
    "plt.subplot(221)\n",
    "plt.imshow(chess_board_H, cmap='gray', interpolation='nearest')\n",
    "plt.subplot(222)\n",
    "plt.imshow(sinus_board_H, cmap='gray')\n",
    "plt.subplot(223)\n",
    "plt.imshow(chess_board_roll_H, cmap='gray', interpolation='nearest')\n",
    "plt.subplot(224)\n",
    "plt.imshow(sinus_board_roll_H, cmap='gray')\n",
    "plt.show()"
   ]
  },
  {
   "cell_type": "code",
   "execution_count": null,
   "metadata": {
    "collapsed": false
   },
   "outputs": [],
   "source": [
    "plt.imshow(np.dot(np.dot(H, chess_board_roll), H))\n",
    "\n",
    "# Plot the fourier transformation of chess boards and sinus boards. \n",
    "# You can use some functions from np.ftt\n",
    "chess_board_ft = chess_board                       # your code here\n",
    "chess_board_roll_ft = chess_board_roll \n",
    "sinus_board_ft = sinus_board\n",
    "sinus_board_roll_ft = sinus_board_roll\n",
    "\n",
    "plt.subplot(221)\n",
    "plt.imshow(chess_board_ft, cmap='gray', interpolation='nearest')\n",
    "plt.subplot(222)\n",
    "plt.imshow(sinus_board_ft, cmap='gray')\n",
    "plt.subplot(223)\n",
    "plt.imshow(chess_board_roll_ft, cmap='gray', interpolation='nearest')\n",
    "plt.subplot(224)\n",
    "plt.imshow(sinus_board_roll_ft, cmap='gray')\n",
    "plt.show()"
   ]
  },
  {
   "cell_type": "markdown",
   "metadata": {},
   "source": [
    "# Exercise 2 - Implement Hadamard Filter Bank - 5 Points"
   ]
  },
  {
   "cell_type": "code",
   "execution_count": null,
   "metadata": {
    "collapsed": true
   },
   "outputs": [],
   "source": [
    "def get_black_holes_colliding_data():\n",
    "    \"\"\"\n",
    "    The LIGO experiment is measuring the gravitational waves.\n",
    "    We will analyse the frequiencies of two colliding black holes.\n",
    "    \n",
    "    Here is an explanation to gravitational waves (if you interessted):\n",
    "        https://www.ligo.caltech.edu/page/what-are-gw\n",
    "    This is the original paper:\n",
    "        https://physics.aps.org/featured-article-pdf/10.1103/PhysRevLett.116.061102\n",
    "    We will use the data from the Hanford detector. \n",
    "    \"\"\"\n",
    "    url = \"https://losc.ligo.org/s/events/GW150914/P150914/fig1-observed-H.txt\"\n",
    "    f = urllib2.urlopen(url)\n",
    "    data = []\n",
    "    for i, byte_line in enumerate(f.readlines()):\n",
    "        if i == 0:\n",
    "            continue\n",
    "        line = byte_line.decode('utf-8').rstrip(\"\\n\")\n",
    "        data.append(float(line.split(\" \")[1]))\n",
    "    return np.array(data)"
   ]
  },
  {
   "cell_type": "code",
   "execution_count": null,
   "metadata": {
    "collapsed": false
   },
   "outputs": [],
   "source": [
    "data = get_black_holes_colliding_data()"
   ]
  },
  {
   "cell_type": "code",
   "execution_count": null,
   "metadata": {
    "collapsed": false
   },
   "outputs": [],
   "source": [
    "plt.figure(figsize=(12, 3))\n",
    "plt.ylabel(\"intensity\")\n",
    "plt.xlabel(\"time\")\n",
    "plt.plot(data)\n",
    "plt.show()"
   ]
  },
  {
   "cell_type": "code",
   "execution_count": null,
   "metadata": {
    "collapsed": false
   },
   "outputs": [],
   "source": [
    "# listen to the two colliding black holes\n",
    "IPython.display.Audio(data=data, rate=1000)"
   ]
  },
  {
   "cell_type": "code",
   "execution_count": null,
   "metadata": {
    "collapsed": false
   },
   "outputs": [],
   "source": [
    "# pad it to the power of two\n",
    "data_padded = np.zeros((4096)) \n",
    "data_padded[:len(data)] = data\n",
    "nb_padded = len(data_padded) - len(data)"
   ]
  },
  {
   "cell_type": "code",
   "execution_count": null,
   "metadata": {
    "collapsed": false
   },
   "outputs": [],
   "source": [
    "from scipy.ndimage.filters import gaussian_filter1d, convolve1d\n",
    "def hadamard_filter_bank(I):\n",
    "    \"\"\"Runs the hadamard filter bank as described in the lecture.\n",
    "       Returns a list of list of coefficents. The first list are the coefficents from \n",
    "       the first bank and the last list the coefficents from the last bank (the dc part).\n",
    "       `I` is allways a power of two.       \n",
    "    \"\"\"\n",
    "    # your code here\n",
    "    return [[1, 2, 0, 1]*100, [1, 0]*100, [1]*100]\n",
    "    \n",
    "\n",
    "def visualise_filter_bank(coefficents):\n",
    "    \"\"\"\n",
    "    Builds one matrix with the lower coefficents repeated.\n",
    "    \"\"\"\n",
    "    vis_mat = np.zeros((len(coefficents), len(coefficents[0])))\n",
    "    for i, coeffs in enumerate(coefficents):\n",
    "        arr = np.array(coeffs)\n",
    "        vis_mat[i] = np.repeat(arr, 2**i, axis=-1)[:len(vis_mat[i])]\n",
    "    return vis_mat"
   ]
  },
  {
   "cell_type": "code",
   "execution_count": null,
   "metadata": {
    "collapsed": false
   },
   "outputs": [],
   "source": [
    "data_h = hadamard_filter_bank(data_padded)"
   ]
  },
  {
   "cell_type": "code",
   "execution_count": null,
   "metadata": {
    "collapsed": false
   },
   "outputs": [],
   "source": [
    "vis = visualise_filter_bank(data_h)\n",
    "plt.figure(figsize=(12, 4))\n",
    "plt.plot(data[:3000])\n",
    "plt.ylabel(\"intensity\")\n",
    "plt.yticks([])\n",
    "plt.xlabel(\"time\")\n",
    "plt.show()\n",
    "\n",
    "plt.figure(figsize=(15, 4))\n",
    "plt.imshow(vis.repeat(40, axis=0)[:, :-int(nb_padded / 2)], cmap=plt.cm.viridis)\n",
    "plt.colorbar()\n",
    "plt.ylabel(\"frequiencies\")\n",
    "plt.yticks([])\n",
    "plt.xlabel(\"time\")\n",
    "plt.show()"
   ]
  },
  {
   "cell_type": "code",
   "execution_count": null,
   "metadata": {
    "collapsed": true
   },
   "outputs": [],
   "source": []
  }
 ],
 "metadata": {
  "kernelspec": {
   "display_name": "Python 3",
   "language": "python",
   "name": "python3"
  },
  "language_info": {
   "codemirror_mode": {
    "name": "ipython",
    "version": 3
   },
   "file_extension": ".py",
   "mimetype": "text/x-python",
   "name": "python",
   "nbconvert_exporter": "python",
   "pygments_lexer": "ipython3",
   "version": "3.5.1+"
  }
 },
 "nbformat": 4,
 "nbformat_minor": 0
}
