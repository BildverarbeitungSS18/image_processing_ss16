{
 "cells": [
  {
   "cell_type": "markdown",
   "metadata": {
    "collapsed": true
   },
   "source": [
    "# Image Processing SS 16 - Assignment - 04\n",
    "\n",
    "### Deadline is 17.5.2016 at 16:00 o'clock\n",
    "\n",
    "Please solve the assignments together with a partner.\n",
    "I will run every notebook. Make sure the code runs through. Select `Kernel` -> `Restart & Run All` to test it.\n",
    "Please strip the output from the cells, either select `Cell` -> `All Output` -> `Clear` or use the `nb_strip_output.py` script / git hook."
   ]
  },
  {
   "cell_type": "code",
   "execution_count": null,
   "metadata": {
    "collapsed": false
   },
   "outputs": [],
   "source": [
    "# display the plots inside the notebook\n",
    "%matplotlib inline"
   ]
  },
  {
   "cell_type": "code",
   "execution_count": null,
   "metadata": {
    "collapsed": false
   },
   "outputs": [],
   "source": [
    "import numpy as np\n",
    "import matplotlib.pyplot as plt\n",
    "import pylab\n",
    "try:\n",
    "    import urllib.request as urllib2\n",
    "except ImportError:\n",
    "    import urllib2\n",
    "\n",
    "import random\n",
    "try:\n",
    "    from StringIO import StringIO as BytesIO\n",
    "except ImportError:\n",
    "    from io import BytesIO\n",
    "    \n",
    "from PIL import Image\n",
    "\n",
    "pylab.rcParams['figure.figsize'] = (12, 12)   # This makes the plot bigger"
   ]
  },
  {
   "cell_type": "markdown",
   "metadata": {},
   "source": [
    "# Exercise 1 - Qualify sharpness and noise - 5 Points\n",
    "\n",
    "Qualify the noise and sharpness in the images. Make a plot images, noise"
   ]
  },
  {
   "cell_type": "code",
   "execution_count": null,
   "metadata": {
    "collapsed": false
   },
   "outputs": [],
   "source": [
    "def download(url):\n",
    "    f = urllib2.urlopen(url)\n",
    "    return plt.imread(f, format='jpeg')"
   ]
  },
  {
   "cell_type": "code",
   "execution_count": null,
   "metadata": {
    "collapsed": true
   },
   "outputs": [],
   "source": [
    "noise_urls = [\n",
    "    \"https://www.dropbox.com/s/z36qc9oufqzsahy/13125390-2016-05-11-114158.png?dl=1\",\n",
    "    \"https://www.dropbox.com/s/yx9lilp3gtveygj/13125390-2016-05-11-114219.png?dl=1\",\n",
    "    \"https://www.dropbox.com/s/8sfs2yl1g9tyic4/13125390-2016-05-11-114225.png?dl=1\",\n",
    "    \"https://www.dropbox.com/s/vytuzel0zczzqkk/13125390-2016-05-11-114230.png?dl=1\",\n",
    "    \"https://www.dropbox.com/s/r6nazro9no907jv/13125390-2016-05-11-114236.png?dl=1\",\n",
    "    \"https://www.dropbox.com/s/8ze4ebi9hi0frzq/13125390-2016-05-11-114242.png?dl=1\",\n",
    "    \"https://www.dropbox.com/s/1n049u5bxzk8hf3/13125390-2016-05-11-114249.png?dl=1\",\n",
    "    \"https://www.dropbox.com/s/f2bvl8nz6shsx9p/13125390-2016-05-11-114343.png?dl=1\",\n",
    "    \"https://www.dropbox.com/s/v282qkf69id8nbk/13125390-2016-05-11-114354.png?dl=1\",\n",
    "    \"https://www.dropbox.com/s/b0ph0vrw7l3zlem/13125390-2016-05-11-114400.png?dl=1\",\n",
    "    \"https://www.dropbox.com/s/6k1czdyyi70mq2i/13125390-2016-05-11-114406.png?dl=1\",\n",
    "    \"https://www.dropbox.com/s/kmzphv2up92kvww/13125390-2016-05-11-114412.png?dl=1\",\n",
    "    \"https://www.dropbox.com/s/qtjj0dc2b2xtuhg/13125390-2016-05-11-114420.png?dl=1\",\n",
    "]\n",
    "\n",
    "focal_urls = [\n",
    "    \"https://www.dropbox.com/s/hfp8ppintr4lc60/13125390-2016-05-11-114943.png?dl=1\",\n",
    "    \"https://www.dropbox.com/s/ilnto7ocbom0r2d/13125390-2016-05-11-114949.png?dl=1\",\n",
    "    \"https://www.dropbox.com/s/ect2z5nup5009rk/13125390-2016-05-11-114956.png?dl=1\",\n",
    "    \"https://www.dropbox.com/s/3uz1pz4u5mad5wf/13125390-2016-05-11-115153.png?dl=1\",\n",
    "    \"https://www.dropbox.com/s/pfyn5n7mktaap3s/13125390-2016-05-11-115200.png?dl=1\",\n",
    "    \"https://www.dropbox.com/s/w1m37cqca04vc0f/13125390-2016-05-11-115206.png?dl=1\",\n",
    "    \"https://www.dropbox.com/s/r7zr1pkc0jbz5qu/13125390-2016-05-11-115226.png?dl=1\",\n",
    "    \"https://www.dropbox.com/s/52lccz2qqu9yl9e/13125390-2016-05-11-115232.png?dl=1\",\n",
    "    \"https://www.dropbox.com/s/9f8t6a7z0dkc3w3/13125390-2016-05-11-115238.png?dl=1\",\n",
    "]"
   ]
  },
  {
   "cell_type": "code",
   "execution_count": null,
   "metadata": {
    "collapsed": false
   },
   "outputs": [],
   "source": [
    "noise_images = list(map(download, noise_urls))"
   ]
  },
  {
   "cell_type": "code",
   "execution_count": null,
   "metadata": {
    "collapsed": false
   },
   "outputs": [],
   "source": [
    "focal_images = list(map(download, focal_urls))"
   ]
  },
  {
   "cell_type": "code",
   "execution_count": null,
   "metadata": {
    "collapsed": false
   },
   "outputs": [],
   "source": [
    "def qualify_noise(img):\n",
    "    \"\"\"Qualify the noise based on the std of a gaussian model.\n",
    "       You may find a window that is contant in the images.\n",
    "    \"\"\"\n",
    "    # your code here\n",
    "    return random.randint(0, 10)\n",
    "\n",
    "plt.bar(range(len(noise_images)), [qualify_noise(i) for i in noise_images])"
   ]
  },
  {
   "cell_type": "code",
   "execution_count": null,
   "metadata": {
    "collapsed": false
   },
   "outputs": [],
   "source": [
    "def qualify_sharpness(img):\n",
    "    \"\"\"Qualify the sharpness based on the average pixel differences.\"\"\"\n",
    "    # your code here\n",
    "    return random.randint(0, 10)\n",
    "plt.bar(range(len(focal_images)), [qualify_sharpness(i) for i in focal_images])"
   ]
  },
  {
   "cell_type": "markdown",
   "metadata": {},
   "source": [
    "Does the result match the expectations? If not what processing step can be done?/"
   ]
  },
  {
   "cell_type": "markdown",
   "metadata": {},
   "source": [
    "# Exercise 2 - SSIM JPEG Compression - 5 Points"
   ]
  },
  {
   "cell_type": "code",
   "execution_count": null,
   "metadata": {
    "collapsed": true
   },
   "outputs": [],
   "source": [
    "def jpeg_enocde(img, quality):\n",
    "    pil_img = Image.fromarray(img)\n",
    "    buffer = BytesIO()\n",
    "    im1.save(buffer, \"JPEG\", quality=quality)\n",
    "    return buffer\n",
    "\n",
    "def jpeg_decode(buffer):\n",
    "    img = Image.open(buffer)\n",
    "    return np.array(img)\n",
    "\n",
    "def jpeg_quality_filter(img, quality):\n",
    "    as_jpeg = jpeg_enocde(img, quality)\n",
    "    return jpeg_decode(as_jpeg)"
   ]
  },
  {
   "cell_type": "code",
   "execution_count": null,
   "metadata": {
    "collapsed": true
   },
   "outputs": [],
   "source": [
    "url_for_jpeg = [\n",
    "    \"https://www.dropbox.com/s/19775c07zk05f55/13125390-2016-05-11-120106.png?dl=1\",\n",
    "    \"https://www.dropbox.com/s/z28w1m07ap1qxvu/13125390-2016-05-11-120127.png?dl=1\",\n",
    "    \"https://www.dropbox.com/s/xs16wf2jkhd9i89/13125390-2016-05-11-120134.png?dl=1\"\n",
    "]"
   ]
  },
  {
   "cell_type": "code",
   "execution_count": null,
   "metadata": {
    "collapsed": false
   },
   "outputs": [],
   "source": [
    "images_for_jpeg = list(map(download, url_for_jpeg))"
   ]
  },
  {
   "cell_type": "code",
   "execution_count": null,
   "metadata": {
    "collapsed": false
   },
   "outputs": [],
   "source": [
    "len(images_for_jpeg)"
   ]
  },
  {
   "cell_type": "code",
   "execution_count": null,
   "metadata": {
    "collapsed": false
   },
   "outputs": [],
   "source": [
    "images10 = [jpeg_quality_filter(img, 10) for img in images_for_jpeg]\n",
    "images50 = [jpeg_quality_filter(img, 10) for img in images_for_jpeg]\n",
    "images80 = [jpeg_quality_filter(img, 10) for img in images_for_jpeg]"
   ]
  },
  {
   "cell_type": "code",
   "execution_count": null,
   "metadata": {
    "collapsed": false
   },
   "outputs": [],
   "source": [
    "def ssim(img, filtered_img):\n",
    "    \"\"\"The SSIM similarity measure. Use the parameters from the paper \n",
    "    as on the second to last slide from the lecture\"\"\"\n",
    "    # your code\n",
    "    return random.randint(0, 10)\n",
    "\n",
    "for i, img in enumerate(images_for_jpeg):\n",
    "    print(i)\n",
    "    compressed_images = [images10[i], images50[i], images80[i]]\n",
    "    plt.bar(range(len(compressed_images)),\n",
    "             [ssim(img, comp) for comp in compressed_images])\n",
    "    plt.show()"
   ]
  },
  {
   "cell_type": "code",
   "execution_count": null,
   "metadata": {
    "collapsed": true
   },
   "outputs": [],
   "source": []
  }
 ],
 "metadata": {
  "kernelspec": {
   "display_name": "Python 3",
   "language": "python",
   "name": "python3"
  },
  "language_info": {
   "codemirror_mode": {
    "name": "ipython",
    "version": 3
   },
   "file_extension": ".py",
   "mimetype": "text/x-python",
   "name": "python",
   "nbconvert_exporter": "python",
   "pygments_lexer": "ipython3",
   "version": "3.5.1+"
  }
 },
 "nbformat": 4,
 "nbformat_minor": 0
}
