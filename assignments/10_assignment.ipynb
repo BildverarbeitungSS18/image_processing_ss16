{
 "cells": [
  {
   "cell_type": "markdown",
   "metadata": {
    "collapsed": true
   },
   "source": [
    "# Image Processing SS 16 - Assignment - 10\n",
    "\n",
    "### Deadline is 6.7.2016 at 16:00 o'clock\n",
    "\n",
    "Please solve the assignments together with a partner.\n",
    "I will run every notebook. Make sure the code runs through. Select `Kernel` -> `Restart & Run All` to test it.\n",
    "Please strip the output from the cells, either select `Cell` -> `All Output` -> `Clear` or use the `nb_strip_output.py` script / git hook."
   ]
  },
  {
   "cell_type": "code",
   "execution_count": null,
   "metadata": {
    "collapsed": false
   },
   "outputs": [],
   "source": [
    "# display the plots inside the notebook\n",
    "%matplotlib inline"
   ]
  },
  {
   "cell_type": "code",
   "execution_count": null,
   "metadata": {
    "collapsed": false
   },
   "outputs": [],
   "source": [
    "import numpy as np\n",
    "import matplotlib.pyplot as plt\n",
    "import pylab\n",
    "import scipy.io.wavfile\n",
    "from skimage.data import astronaut\n",
    "from skimage.color import rgb2gray\n",
    "\n",
    "from __future__ import division\n",
    "import random\n",
    "try:\n",
    "    from StringIO import StringIO as BytesIO\n",
    "except ImportError:\n",
    "    from io import BytesIO\n",
    "    \n",
    "try:\n",
    "    import urllib.request as urllib2\n",
    "except ImportError:\n",
    "    import urllib2\n",
    "    \n",
    "    \n",
    "from numpy.fft import ifft2, fft2\n",
    "from scipy.fftpack import dct\n",
    "from PIL import Image\n",
    "import itertools\n",
    "import IPython\n",
    "import os\n",
    "import zipfile\n",
    "import base64\n",
    "from scipy import signal\n",
    "\n",
    "pylab.rcParams['figure.figsize'] = (10, 10)   # This makes the plot bigger"
   ]
  },
  {
   "cell_type": "code",
   "execution_count": null,
   "metadata": {
    "collapsed": false
   },
   "outputs": [],
   "source": [
    "kernel_size = 21\n",
    "def degradation(img):\n",
    "    \"\"\"The corruption process\"\"\"\n",
    "    kernel = np.diag(np.ones((kernel_size,))) / kernel_size\n",
    "    \n",
    "    return np.real(ifft2(fft2(img) * fft2(kernel, img.shape)))\n",
    "\n",
    "def degradation_change_one_pixel(img):\n",
    "    corrupted = img.copy()\n",
    "    corrupted[150, 100] = 0\n",
    "    return corrupted\n",
    "\n",
    "def degradation_add_noise(img):\n",
    "    print(img.max())\n",
    "    return np.clip(img + np.random.normal(0, 0.01, img.shape), 0, 1)"
   ]
  },
  {
   "cell_type": "code",
   "execution_count": null,
   "metadata": {
    "collapsed": false
   },
   "outputs": [],
   "source": [
    "f = urllib2.urlopen(\"https://images-na.ssl-images-amazon.com/images/I/5191B5zqR8L._SX359_BO1,204,203,200_.jpg\")\n",
    "img = rgb2gray(plt.imread(f, format='jpeg') / 255.)\n",
    "print(img.shape)\n",
    "img = img[:256, :256]"
   ]
  },
  {
   "cell_type": "code",
   "execution_count": null,
   "metadata": {
    "collapsed": false
   },
   "outputs": [],
   "source": [
    "degradated_img = degradation(img)\n",
    "degradeted_img_pixel = degradation_change_one_pixel(degradated_img)\n",
    "degradeted_img_noise = degradation_add_noise(degradated_img)\n",
    "\n",
    "plt.subplot(221)\n",
    "plt.title(\"Original image\")\n",
    "plt.imshow(img, cmap='gray')\n",
    "plt.subplot(222)\n",
    "plt.title(\"Degradeted image\")\n",
    "plt.imshow(degradated_img, cmap='gray')\n",
    "plt.subplot(223)\n",
    "plt.title(\"Degradeted image + one pixel set zero\")\n",
    "plt.imshow(degradeted_img_pixel, cmap='gray')\n",
    "plt.subplot(224)\n",
    "plt.title(\"Degradeted image + small gaussian noise\")\n",
    "plt.imshow(degradeted_img_noise, cmap='gray')"
   ]
  },
  {
   "cell_type": "markdown",
   "metadata": {},
   "source": [
    "# Exercise 1 - Point Spread Function - 1 Point"
   ]
  },
  {
   "cell_type": "code",
   "execution_count": null,
   "metadata": {
    "collapsed": false
   },
   "outputs": [],
   "source": [
    "# Estimate the Point Spread Function\n",
    "psf = np.zeros((kernel_size, kernel_size))\n",
    "# your code here\n",
    "plt.imshow(psf, cmap='gray')\n",
    "plt.show()\n",
    "#psf.sum()\n"
   ]
  },
  {
   "cell_type": "markdown",
   "metadata": {
    "collapsed": true
   },
   "source": [
    "# Exercise 2 - Implement Inverse Filtering + Butterworth filter - 5 Points\n",
    "\n",
    "Simply divide the image by the estimated PSF in fourier space."
   ]
  },
  {
   "cell_type": "code",
   "execution_count": null,
   "metadata": {
    "collapsed": true
   },
   "outputs": [],
   "source": [
    "def plot_reconstruction(reconstruction):\n",
    "    plt.subplot(221)\n",
    "    plt.title(\"Original image\")\n",
    "    plt.imshow(img, cmap='gray')\n",
    "    plt.subplot(222)\n",
    "    plt.title(\"Reconsructed degradeted image\")\n",
    "    plt.imshow(reconstruction(degradated_img), cmap='gray')\n",
    "    plt.subplot(223)\n",
    "    plt.title(\"Reconsructed degradeted image + one pixel set zero\")\n",
    "    plt.imshow(reconstruction(degradeted_img_pixel), cmap='gray')\n",
    "    plt.subplot(224)\n",
    "    plt.title(\"Reconsructed degradeted image + small gaussian noise\")\n",
    "    plt.imshow(reconstruction(degradeted_img_noise), cmap='gray')"
   ]
  },
  {
   "cell_type": "code",
   "execution_count": null,
   "metadata": {
    "collapsed": false
   },
   "outputs": [],
   "source": [
    "def flip_fft2(x):\n",
    "    \"\"\"Flip the result of the fft2 function, so that the deep frequiencies are in the center.\n",
    "       If you flip a ft specturm two times it is in the original form again.\n",
    "    \"\"\"\n",
    "    n = x.shape[0]\n",
    "    assert n == x.shape[1]\n",
    "    nh = n//2\n",
    "    x[:nh, :nh] = np.fliplr(np.flipud(x[:nh, :nh]))\n",
    "    x[nh:, :nh] = x[nh:, :nh].T\n",
    "    x[:nh, nh:] = x[:nh, nh:].T\n",
    "    x[nh:, nh:] = np.fliplr(np.flipud(x[nh:, nh:]))\n",
    "    return x\n",
    "\n",
    "\n",
    "plt.subplot(131)\n",
    "plt.title(\"Spectrum from numpy\")\n",
    "plt.imshow(np.log(np.abs(fft2(img))), cmap='gray')\n",
    "\n",
    "plt.subplot(132)\n",
    "plt.title(\"Flipped spectrum\")\n",
    "flip_ft_img = flip_fft2(fft2(img))\n",
    "plt.imshow(np.log(np.abs(flip_ft_img)), cmap='gray')\n",
    "plt.subplot(133)\n",
    "plt.title(\"Double Flip\")\n",
    "double_flip_ft_img = flip_fft2(flip_fft2(fft2(img)))\n",
    "plt.imshow(ifft2(double_flip_ft_img).real, cmap='gray')\n",
    "plt.show()"
   ]
  },
  {
   "cell_type": "code",
   "execution_count": null,
   "metadata": {
    "collapsed": false
   },
   "outputs": [],
   "source": [
    "def butterworth(order, cut_off, n=512):\n",
    "    \"\"\"\n",
    "    Args:\n",
    "        order (int): Order of the butterworth filter\n",
    "        cut_off (float): Between 0-1 the cutoff frequiency. One is the nyquist frequency\n",
    "        n (int): Number of sample to return\n",
    "    Returns:\n",
    "        w (ndarray): Frequiencies from 0 to 1. \n",
    "        h (ndarray): Coefficents how the frequiencies are scaled.\n",
    "    \"\"\"\n",
    "    cut_off = 0.125\n",
    "    b, a = signal.butter(order, cut_off, 'low')\n",
    "    w, h = signal.freqz(b, a, worN=n)\n",
    "    return w / np.pi, h"
   ]
  },
  {
   "cell_type": "code",
   "execution_count": null,
   "metadata": {
    "collapsed": false
   },
   "outputs": [],
   "source": [
    "# example butterworth filter\n",
    "order = 1\n",
    "cut_off = 0.125   # <- you can play at the cutoff frequiency.\n",
    "w, h = butterworth(order, cut_off)\n",
    "plt.figure(figsize=(10, 4))\n",
    "plt.plot(w, 20*np.log10(np.abs(h)))\n",
    "plt.xscale('log')\n",
    "plt.title('Butterworth filter frequency response')\n",
    "plt.xlabel('Frequency [Nyquist frequency]')\n",
    "plt.ylabel('Amplitude [dB]')\n",
    "plt.margins(0, 0.1)\n",
    "plt.grid(which='both', axis='both')\n",
    "plt.axvline(cut_off, color='green') # cutoff frequency\n",
    "plt.show()"
   ]
  },
  {
   "cell_type": "code",
   "execution_count": null,
   "metadata": {
    "collapsed": false
   },
   "outputs": [],
   "source": [
    "def butterworth_lowpass_filter(img_ft):\n",
    "    \"\"\"Filters the fourier transformation of the image with the butterworth filter\"\"\"\n",
    "    # your code here\n",
    "    return img_ft\n",
    "\n",
    "\n",
    "def inverse_filtering(img):\n",
    "    \"\"\"Simple inverse filtering with a butterworth filter\"\"\"\n",
    "    # your code here, select suitable parameters for the butterworth filter\n",
    "    return img\n",
    "\n",
    "plot_reconstruction(inverse_filtering)"
   ]
  },
  {
   "cell_type": "markdown",
   "metadata": {},
   "source": [
    "# Exercise 3 - Wiener Filter - 4 Points"
   ]
  },
  {
   "cell_type": "code",
   "execution_count": null,
   "metadata": {
    "collapsed": true
   },
   "outputs": [],
   "source": [
    "# estimate the snr of the image\n",
    "snr = 0\n",
    "\n",
    "def wiener_filter(img):\n",
    "    # your code here\n",
    "    return img\n",
    "\n"
   ]
  },
  {
   "cell_type": "code",
   "execution_count": null,
   "metadata": {
    "collapsed": false
   },
   "outputs": [],
   "source": [
    "plot_reconstruction(wiener_filter)"
   ]
  }
 ],
 "metadata": {
  "kernelspec": {
   "display_name": "Python 3",
   "language": "python",
   "name": "python3"
  },
  "language_info": {
   "codemirror_mode": {
    "name": "ipython",
    "version": 3
   },
   "file_extension": ".py",
   "mimetype": "text/x-python",
   "name": "python",
   "nbconvert_exporter": "python",
   "pygments_lexer": "ipython3",
   "version": "3.5.1+"
  }
 },
 "nbformat": 4,
 "nbformat_minor": 0
}
