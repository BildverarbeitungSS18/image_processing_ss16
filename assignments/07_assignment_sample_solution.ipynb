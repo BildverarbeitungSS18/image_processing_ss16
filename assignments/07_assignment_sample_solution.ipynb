{
 "cells": [
  {
   "cell_type": "markdown",
   "metadata": {
    "collapsed": true
   },
   "source": [
    "# Image Processing SS 16 - Assignment - 07\n",
    "\n",
    "### Deadline is 12.6.2016 at 23:99 o'clock\n",
    "\n",
    "Please solve the assignments together with a partner.\n",
    "I will run every notebook. Make sure the code runs through. Select `Kernel` -> `Restart & Run All` to test it.\n",
    "Please strip the output from the cells, either select `Cell` -> `All Output` -> `Clear` or use the `nb_strip_output.py` script / git hook."
   ]
  },
  {
   "cell_type": "code",
   "execution_count": 1,
   "metadata": {
    "collapsed": false
   },
   "outputs": [],
   "source": [
    "# display the plots inside the notebook\n",
    "%matplotlib inline"
   ]
  },
  {
   "cell_type": "code",
   "execution_count": 2,
   "metadata": {
    "collapsed": false
   },
   "outputs": [],
   "source": [
    "import numpy as np\n",
    "import matplotlib.pyplot as plt\n",
    "import pylab\n",
    "import scipy.io.wavfile\n",
    "from skimage.data import astronaut\n",
    "from skimage.color import rgb2gray\n",
    "\n",
    "from __future__ import division\n",
    "import random\n",
    "try:\n",
    "    from StringIO import StringIO as BytesIO\n",
    "except ImportError:\n",
    "    from io import BytesIO\n",
    "    \n",
    "try:\n",
    "    import urllib.request as urllib2\n",
    "except ImportError:\n",
    "    import urllib2\n",
    "    \n",
    "    \n",
    "from numpy.fft import fft2 as numpy_fft2, ifft2 as numpy_ifft2\n",
    "\n",
    "from PIL import Image\n",
    "import itertools\n",
    "import IPython\n",
    "\n",
    "pylab.rcParams['figure.figsize'] = (12, 12)   # This makes the plot bigger"
   ]
  },
  {
   "cell_type": "code",
   "execution_count": 3,
   "metadata": {
    "collapsed": false
   },
   "outputs": [],
   "source": [
    "# Playground to get some intuition for 2d fourier transfromation\n",
    "ft = np.zeros((64,64))\n",
    "\n",
    "# set some random coefficents and see what happens\n",
    "#\n",
    "ft[0, 1] = 1\n",
    "\n",
    "ft[10, 10] = 1\n",
    "\n",
    "plt.subplot(121)\n",
    "plt.imshow(np.real(numpy_ifft2(ft)), cmap='gray')\n",
    "plt.subplot(122)\n",
    "plt.imshow(np.imag(numpy_ifft2(ft)), cmap='gray')\n",
    "plt.show()"
   ]
  },
  {
   "cell_type": "markdown",
   "metadata": {},
   "source": [
    "# Exercise 1 - 2D DFT - 2 Points\n",
    "Implement the 2D Discrete Fourier Transfromation with [Matrix Multiplication](https://en.wikipedia.org/wiki/DFT_matrix). You can use your code from the last assignment to compute the dct matrix."
   ]
  },
  {
   "cell_type": "code",
   "execution_count": 4,
   "metadata": {
    "collapsed": false
   },
   "outputs": [],
   "source": [
    "def dft(n,s,norm):\n",
    "    i, j = np.meshgrid(np.arange(n), np.arange(n))\n",
    "    omega = np.exp( - 2 * np.pi * 1J / n * s)\n",
    "    dft = np.power( omega, i * j ) / norm\n",
    "    return dft\n",
    "\n",
    "def dft2d(img):\n",
    "    \"\"\"\n",
    "    Returns the 2d discrete fourier transformation\n",
    "    \"\"\"\n",
    "    n = max(img.shape[0],img.shape[0])\n",
    "    W = dft(n,1,np.sqrt(n))\n",
    "    return W.dot(img).dot(W)\n",
    "\n",
    "def inv_dft2d(x):\n",
    "    \"\"\"\n",
    "    Returns the 2d inverse discrete fourier transformation\n",
    "    \"\"\"\n",
    "    n = max(x.shape[0],x.shape[0])\n",
    "    Wi = dft(n,-1,1)\n",
    "    return Wi.dot(x).dot(Wi)\n",
    "\n",
    "\n",
    "def chess_board(n=8, field_size=32):\n",
    "    board = np.zeros((n*field_size, n*field_size))\n",
    "    s = field_size\n",
    "    for i in range(n):\n",
    "        for j in range(n):\n",
    "            if (i + j) % 2 == 0:\n",
    "                board[i*s:(i+1)*s, j*s:(j+1)*s] = 1\n",
    "    return board\n",
    "\n",
    "plt.subplot(321)\n",
    "plt.imshow(np.real(chess_board()), cmap='gray')\n",
    "plt.subplot(322)\n",
    "plt.imshow(np.imag(chess_board()), cmap='gray')\n",
    "plt.subplot(323)\n",
    "plt.imshow(np.real(dft2d(chess_board())), cmap='gray')\n",
    "plt.subplot(324)\n",
    "plt.imshow(np.imag(dft2d(chess_board())), cmap='gray')\n",
    "plt.subplot(325)\n",
    "plt.imshow(np.real(inv_dft2d(dft2d(chess_board()))), cmap='gray')\n",
    "plt.subplot(326)\n",
    "plt.imshow(np.imag(inv_dft2d(dft2d(chess_board()))), cmap='gray')\n",
    "plt.show"
   ]
  },
  {
   "cell_type": "markdown",
   "metadata": {},
   "source": [
    "# Exercise 3 - High and Low Pass filter with the 2D fourier transfromation"
   ]
  },
  {
   "cell_type": "code",
   "execution_count": 5,
   "metadata": {
    "collapsed": false
   },
   "outputs": [],
   "source": [
    "def high_pass(img_ft, n):\n",
    "    \"\"\"Removes the low frequencies\"\"\"\n",
    "    ft = img_ft.copy()\n",
    "    ft[:n, :n] = 0\n",
    "    ft[-n:, :n] = 0\n",
    "    ft[-n:, -n:] = 0\n",
    "    ft[:n, -n:] = 0\n",
    "    return ft\n",
    "\n",
    "def low_pass(img_ft, n):\n",
    "    \"\"\"Removes the high frequencies\"\"\"\n",
    "    ft = img_ft.copy()\n",
    "    ft[:, n:-n] = 0\n",
    "    ft[n:-n, :] = 0\n",
    "    return ft\n",
    "    \n",
    "def band_pass(img_ft, low, high):\n",
    "    \"\"\"Only perserve the frequencies between low and high\"\"\"\n",
    "    # your code here\n",
    "    ft = high_pass(img_ft, low)\n",
    "    ft = low_pass(ft, high)\n",
    "    return ft\n",
    "    \n",
    "def inv_dft_and_plot(img_ft):\n",
    "    plt.imshow(np.real(inv_dft2d(img_ft)), cmap='gray')\n",
    "    plt.show()"
   ]
  },
  {
   "cell_type": "code",
   "execution_count": 6,
   "metadata": {
    "collapsed": false
   },
   "outputs": [],
   "source": [
    "chess_board_ft = dft2d(chess_board())\n",
    "\n",
    "# display frequency domain of the chess_board\n",
    "plt.subplot(121)\n",
    "plt.imshow(np.real(chess_board_ft), cmap='gray')\n",
    "plt.subplot(122)\n",
    "plt.imshow(np.imag(chess_board_ft), cmap='gray')\n",
    "plt.show()"
   ]
  },
  {
   "cell_type": "code",
   "execution_count": 7,
   "metadata": {
    "collapsed": false
   },
   "outputs": [],
   "source": [
    "# remove the low frequiencies of the chess board\n",
    "chess_high_feq = high_pass(chess_board_ft, 12)\n",
    "inv_dft_and_plot(chess_high_feq)"
   ]
  },
  {
   "cell_type": "code",
   "execution_count": 8,
   "metadata": {
    "collapsed": false,
    "scrolled": true
   },
   "outputs": [],
   "source": [
    "# remove the high frequiencies of the chess board\n",
    "chess_low_feq = low_pass(chess_board_ft, 10)\n",
    "inv_dft_and_plot(chess_low_feq)"
   ]
  },
  {
   "cell_type": "code",
   "execution_count": 9,
   "metadata": {
    "collapsed": false,
    "scrolled": true
   },
   "outputs": [],
   "source": [
    "# remove the high frequiencies of the chess board\n",
    "chess_medium_feq = band_pass(chess_board_ft, 5, 15)\n",
    "inv_dft_and_plot(chess_medium_feq)"
   ]
  },
  {
   "cell_type": "code",
   "execution_count": 10,
   "metadata": {
    "collapsed": false
   },
   "outputs": [],
   "source": [
    "img = rgb2gray(astronaut() / 255)\n",
    "# filter all frequencies corresponding to the coeffientns between 48 and 128.\n",
    "astro_dft = dft2d(img)\n",
    "astro_high = high_pass(astro_dft,128)\n",
    "astro_low = low_pass(astro_dft,48)\n",
    "astro = astro_high + astro_low\n",
    "inv_dft_and_plot(astro)"
   ]
  },
  {
   "cell_type": "markdown",
   "metadata": {},
   "source": [
    "# Exercise 3 - FFT - 5 Points\n",
    "\n",
    "Implement the fast fourier transformation. \n",
    "Use the [Cooley-Tukey](https://en.wikipedia.org/wiki/Cooley%E2%80%93Tukey_FFT_algorithm) algorithm."
   ]
  },
  {
   "cell_type": "code",
   "execution_count": 11,
   "metadata": {
    "collapsed": false
   },
   "outputs": [],
   "source": [
    "def fft1(x):\n",
    "    N = len(x)\n",
    "    if N <= 1: return x\n",
    "    even = fft1(x[0::2])\n",
    "    odd =  fft1(x[1::2])\n",
    "    T = [np.exp(-2j*np.pi*k/N) * odd[k] for k in range(N//2)]\n",
    "    return [even[k] + T[k] for k in range(N//2)] + [even[k] - T[k] for k in range(N//2)]\n",
    "\n",
    "def fft(x):\n",
    "    \"\"\"\n",
    "    Computes the fast fourier transformation of x.\n",
    "    \"\"\"\n",
    "    temp = np.zeros(x.shape, dtype ='complex')\n",
    "    X = np.zeros(x.shape, dtype ='complex')\n",
    "    \n",
    "    temp = np.apply_along_axis(fft1,1,x)\n",
    "    X = np.apply_along_axis(fft1,0,temp)\n",
    "    return X\n"
   ]
  },
  {
   "cell_type": "code",
   "execution_count": 12,
   "metadata": {
    "collapsed": false
   },
   "outputs": [],
   "source": [
    "img = rgb2gray(astronaut() / 255)\n",
    "fft_img = fft(img)"
   ]
  },
  {
   "cell_type": "code",
   "execution_count": 13,
   "metadata": {
    "collapsed": false
   },
   "outputs": [],
   "source": [
    "plt.subplot(121)\n",
    "plt.imshow(np.real(fft_img),cmap=\"gray\")\n",
    "plt.subplot(122)\n",
    "plt.imshow(np.imag(fft_img),cmap=\"gray\")\n",
    "plt.show()"
   ]
  },
  {
   "cell_type": "code",
   "execution_count": 14,
   "metadata": {
    "collapsed": false
   },
   "outputs": [],
   "source": [
    "plt.subplot(121)\n",
    "plt.imshow(np.real(inv_dft2d(fft_img)),cmap=\"gray\")\n",
    "plt.subplot(122)\n",
    "plt.imshow(np.imag(inv_dft2d(fft_img)),cmap=\"gray\")\n",
    "plt.show()"
   ]
  }
 ],
 "metadata": {
  "kernelspec": {
   "display_name": "Python 3",
   "language": "python",
   "name": "python3"
  },
  "language_info": {
   "codemirror_mode": {
    "name": "ipython",
    "version": 3
   },
   "file_extension": ".py",
   "mimetype": "text/x-python",
   "name": "python",
   "nbconvert_exporter": "python",
   "pygments_lexer": "ipython3",
   "version": "3.5.1+"
  }
 },
 "nbformat": 4,
 "nbformat_minor": 0
}
